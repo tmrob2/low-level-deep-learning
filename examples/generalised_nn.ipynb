{
 "cells": [
  {
   "cell_type": "code",
   "execution_count": 8,
   "metadata": {},
   "outputs": [],
   "source": [
    "import cppapi\n",
    "import numpy as np"
   ]
  },
  {
   "cell_type": "code",
   "execution_count": 9,
   "metadata": {},
   "outputs": [],
   "source": [
    "# create a test layer\n",
    "neurons = 3\n",
    "mse = cppapi.MeanSquareError()\n",
    "test_layer = cppapi.TestWeightMultOp(mse, neurons)\n",
    "X = np.random.randn(3, 2).astype(np.float32)\n",
    "test_layer.forward(X)"
   ]
  },
  {
   "cell_type": "code",
   "execution_count": 10,
   "metadata": {},
   "outputs": [
    {
     "name": "stdout",
     "output_type": "stream",
     "text": [
      "(3, 3)\n"
     ]
    }
   ],
   "source": [
    "print(test_layer.get_prediction().shape)"
   ]
  },
  {
   "cell_type": "code",
   "execution_count": 11,
   "metadata": {},
   "outputs": [
    {
     "name": "stdout",
     "output_type": "stream",
     "text": [
      "[[-1.4384781   0.21798226]\n",
      " [ 1.2128748  -0.20140113]\n",
      " [ 0.15439644  0.24611461]]\n"
     ]
    }
   ],
   "source": [
    "\n",
    "target = np.random.randn(X.shape[0], neurons).astype(np.float32)\n",
    "loss = test_layer.partial_train(X, target)\n",
    "\n",
    "gradients = test_layer.get_gradients()\n",
    "\n",
    "print(gradients)"
   ]
  },
  {
   "cell_type": "code",
   "execution_count": 12,
   "metadata": {},
   "outputs": [
    {
     "name": "stdout",
     "output_type": "stream",
     "text": [
      "(3, 3)\n",
      "[[-0.47568557  0.34544384]\n",
      " [ 0.6538927   0.7076709 ]\n",
      " [ 0.83847576 -0.05836049]]\n",
      "[[ 0.19358267 -0.43130675  0.3838737 ]\n",
      " [ 0.37567186  0.6561415   0.11067688]\n",
      " [-0.04243415  0.78969914 -0.37944388]]\n"
     ]
    }
   ],
   "source": [
    "linear_layer = cppapi.TestBiasOp(mse, neurons)\n",
    "linear_layer.forward(X)\n",
    "prediction = test_layer.get_prediction()\n",
    "\n",
    "print(prediction.shape) # TODO check that this is actually the correct shape?\n",
    "# I mean we have checks all throughout the operations but just not sure \n",
    "# if the order of operations changes things. \n",
    "print(X)\n",
    "print(prediction)"
   ]
  }
 ],
 "metadata": {
  "kernelspec": {
   "display_name": "cppdl",
   "language": "python",
   "name": "python3"
  },
  "language_info": {
   "codemirror_mode": {
    "name": "ipython",
    "version": 3
   },
   "file_extension": ".py",
   "mimetype": "text/x-python",
   "name": "python",
   "nbconvert_exporter": "python",
   "pygments_lexer": "ipython3",
   "version": "3.10.14"
  }
 },
 "nbformat": 4,
 "nbformat_minor": 2
}
