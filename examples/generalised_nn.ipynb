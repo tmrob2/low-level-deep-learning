{
 "cells": [
  {
   "cell_type": "code",
   "execution_count": 1,
   "metadata": {},
   "outputs": [],
   "source": [
    "import cppapi\n",
    "import numpy as np"
   ]
  },
  {
   "cell_type": "code",
   "execution_count": 4,
   "metadata": {},
   "outputs": [],
   "source": [
    "# create a test layer\n",
    "\n",
    "test_layer = cppapi.TestLayer(cppapi.LossFns.MSE)\n",
    "X = np.random.randn(10, 2).astype(np.float32)\n",
    "test_layer.forward(X)"
   ]
  },
  {
   "cell_type": "code",
   "execution_count": 6,
   "metadata": {},
   "outputs": [
    {
     "name": "stdout",
     "output_type": "stream",
     "text": [
      "(10, 16)\n"
     ]
    }
   ],
   "source": [
    "print(test_layer.get_prediction().shape)"
   ]
  },
  {
   "cell_type": "code",
   "execution_count": 9,
   "metadata": {},
   "outputs": [
    {
     "name": "stdout",
     "output_type": "stream",
     "text": [
      "[[ 0.17645887  0.70797753]\n",
      " [ 0.41126037 -0.5401844 ]\n",
      " [-0.37051505  0.1079278 ]\n",
      " [ 0.10857794  0.6975594 ]\n",
      " [ 0.8856541  -0.10069072]\n",
      " [-1.2555974   0.32330757]\n",
      " [ 0.1251294  -0.9895672 ]\n",
      " [ 0.21483293 -0.79422736]\n",
      " [-0.09502658 -0.90352345]\n",
      " [ 0.77805686 -0.4354303 ]]\n"
     ]
    }
   ],
   "source": [
    "neurons = 16\n",
    "target = np.random.randn(X.shape[0], neurons).astype(np.float32)\n",
    "loss = test_layer.partial_train(X, target)\n",
    "\n",
    "gradients = test_layer.get_gradients()\n",
    "\n",
    "print(gradients)"
   ]
  }
 ],
 "metadata": {
  "kernelspec": {
   "display_name": "cppdl",
   "language": "python",
   "name": "python3"
  },
  "language_info": {
   "codemirror_mode": {
    "name": "ipython",
    "version": 3
   },
   "file_extension": ".py",
   "mimetype": "text/x-python",
   "name": "python",
   "nbconvert_exporter": "python",
   "pygments_lexer": "ipython3",
   "version": "3.10.14"
  }
 },
 "nbformat": 4,
 "nbformat_minor": 2
}
