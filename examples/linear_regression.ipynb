{
 "cells": [
  {
   "cell_type": "code",
   "execution_count": 1,
   "metadata": {},
   "outputs": [
    {
     "name": "stdout",
     "output_type": "stream",
     "text": [
      "/home/thomas/cpp-projects/low-level-deep-learning/examples\n",
      "/home/thomas/cpp-projects/low-level-deep-learning\n"
     ]
    }
   ],
   "source": [
    "import os\n",
    "\n",
    "print(os.getcwd())\n",
    "os.chdir('/home/thomas/cpp-projects/low-level-deep-learning/')\n",
    "print(os.getcwd())"
   ]
  },
  {
   "cell_type": "code",
   "execution_count": 2,
   "metadata": {},
   "outputs": [],
   "source": [
    "from sklearn.datasets import load_diabetes\n",
    "import numpy as np"
   ]
  },
  {
   "cell_type": "code",
   "execution_count": 3,
   "metadata": {},
   "outputs": [],
   "source": [
    "diabetes = load_diabetes()"
   ]
  },
  {
   "cell_type": "code",
   "execution_count": 4,
   "metadata": {},
   "outputs": [
    {
     "name": "stdout",
     "output_type": "stream",
     "text": [
      "(442, 10) (442,)\n"
     ]
    }
   ],
   "source": [
    "data = diabetes.data.astype(np.float32)\n",
    "targets = diabetes.target.astype(np.float32)\n",
    "features = diabetes.feature_names\n",
    "\n",
    "print(data.shape, targets.shape)"
   ]
  },
  {
   "cell_type": "code",
   "execution_count": 5,
   "metadata": {},
   "outputs": [
    {
     "name": "stdout",
     "output_type": "stream",
     "text": [
      "(442, 1)\n"
     ]
    }
   ],
   "source": [
    "# First add a dimension to targets\n",
    "targets_ = targets.reshape(-1, 1)\n",
    "print(targets_.shape)"
   ]
  },
  {
   "cell_type": "markdown",
   "metadata": {},
   "source": [
    "A note on examing the shapes of the backward pass as it is more complicated to understand"
   ]
  },
  {
   "cell_type": "code",
   "execution_count": 6,
   "metadata": {},
   "outputs": [
    {
     "name": "stdout",
     "output_type": "stream",
     "text": [
      "(442, 10) (10, 1) <class 'numpy.ndarray'>\n",
      "N: (442, 1) P: (442, 1)\n",
      "pre aggregated dLdB (442, 1) post aggregated (1,)\n",
      "dLdP: (442, 1) dLdN: (442, 1) dLdW: (10, 1)\n"
     ]
    }
   ],
   "source": [
    "# examining the data transformations of the forward pass\n",
    "W = np.random.randn(data.shape[1], 1)\n",
    "print(data.shape, W.shape, type(data))\n",
    "(data @ W).shape\n",
    "N = data @ W\n",
    "P = N + 3.2\n",
    "print(\"N:\", N.shape, \"P:\", P.shape)\n",
    "\n",
    "# examining the data transformations of the gradients\n",
    "dLdP = -2 * (targets_ - P)\n",
    "dPdN = np.ones_like(N)\n",
    "dPdB = np.ones((1, 1), dtype=np.float32)\n",
    "\n",
    "dLdN = dLdP * dPdN\n",
    "\n",
    "dNdW = data.transpose()\n",
    "dLdW = dNdW @ dLdN\n",
    "\n",
    "dLdB = (dLdP * dPdB)\n",
    "print(\"pre aggregated dLdB\", dLdB.shape, \"post aggregated\", dLdB.sum(axis=0).shape)\n",
    "print(\"dLdP:\", dLdP.shape, \"dLdN:\", dLdN.shape, \"dLdW:\", dLdW.shape)\n",
    "\n"
   ]
  },
  {
   "cell_type": "code",
   "execution_count": 7,
   "metadata": {},
   "outputs": [],
   "source": [
    "import cppapi\n",
    "import random\n",
    "\n",
    "W = np.random.randn(data.shape[1], 1).astype(np.float32)\n",
    "random_intercept = random.random()\n",
    "linear = cppapi.LinearRegression(data.shape[0], data.shape[1], random_intercept, W)\n",
    "loss = linear._forward_lin_reg_one_step(data, targets_, cppapi.Loss.RMSE)"
   ]
  },
  {
   "cell_type": "code",
   "execution_count": 8,
   "metadata": {},
   "outputs": [
    {
     "name": "stdout",
     "output_type": "stream",
     "text": [
      "cpp api loss 169.6312255859375\n"
     ]
    }
   ],
   "source": [
    "print(\"cpp api loss\", loss)"
   ]
  },
  {
   "cell_type": "code",
   "execution_count": 9,
   "metadata": {},
   "outputs": [],
   "source": [
    "from python_tests.manual_linear_regression import forward_linear_regression, loss_gradients\n",
    "from typing import Dict\n",
    "\n",
    "weights: Dict[str, np.ndarray] = {}\n",
    "weights['W'] = W\n",
    "weights['B'] = np.array([[random_intercept]], dtype=np.float32)\n",
    "pyloss, forward_info = forward_linear_regression(data, targets_, weights)"
   ]
  },
  {
   "cell_type": "code",
   "execution_count": 15,
   "metadata": {},
   "outputs": [
    {
     "name": "stdout",
     "output_type": "stream",
     "text": [
      "dict_keys(['X', 'N', 'P', 'y'])\n",
      "Python/C++ N output close? True\n",
      "Python/C++ N output close? True\n",
      "(442, 1) (442, 1)\n",
      "<class 'float'> <class 'float'>\n",
      "Loss discrepency Py/C++ 169.6312 / 169.6312255859375\n"
     ]
    }
   ],
   "source": [
    "import matplotlib.pyplot as plt\n",
    "\n",
    "\n",
    "print(forward_info.keys())\n",
    "\n",
    "print(\"Python/C++ N output close?\", np.allclose(forward_info['N'], linear.N))\n",
    "print(\"Python/C++ N output close?\", np.allclose(forward_info['P'], linear.P))\n",
    "print(forward_info['P'].shape, linear.P.shape)\n",
    "print(type(float(pyloss)), type(loss))\n",
    "print(\"Loss discrepency Py/C++\", pyloss, \"/\", loss)"
   ]
  },
  {
   "cell_type": "code",
   "execution_count": 11,
   "metadata": {},
   "outputs": [],
   "source": [
    "# perform the python backward differentiation step\n",
    "loss_gradients_output = loss_gradients(forward_info, weights)\n",
    "# perform the C++ API backward differentiation step\n",
    "linear._gradient_backward_step(data, targets_)"
   ]
  },
  {
   "cell_type": "code",
   "execution_count": 12,
   "metadata": {},
   "outputs": [
    {
     "name": "stdout",
     "output_type": "stream",
     "text": [
      "Weights (dLdW) Python==C++: True\n",
      "[-133621.78] -133621.78125\n"
     ]
    }
   ],
   "source": [
    "print(\"Weights (dLdW) Python==C++:\", np.allclose(linear.dLdW, loss_gradients_output['W']))\n",
    "print(loss_gradients_output['B'], linear.dLdB)"
   ]
  }
 ],
 "metadata": {
  "kernelspec": {
   "display_name": "cppdl",
   "language": "python",
   "name": "python3"
  },
  "language_info": {
   "codemirror_mode": {
    "name": "ipython",
    "version": 3
   },
   "file_extension": ".py",
   "mimetype": "text/x-python",
   "name": "python",
   "nbconvert_exporter": "python",
   "pygments_lexer": "ipython3",
   "version": "3.10.14"
  }
 },
 "nbformat": 4,
 "nbformat_minor": 2
}
