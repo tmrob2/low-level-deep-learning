{
 "cells": [
  {
   "cell_type": "code",
   "execution_count": 1,
   "metadata": {},
   "outputs": [
    {
     "name": "stdout",
     "output_type": "stream",
     "text": [
      "max threads per block: 1024\n",
      "shared memory per block: 49152\n"
     ]
    },
    {
     "data": {
      "text/plain": [
       "0"
      ]
     },
     "execution_count": 1,
     "metadata": {},
     "output_type": "execute_result"
    }
   ],
   "source": [
    "import cppapi\n",
    "\n",
    "\n",
    "# performing shared memory calculations for accessing the matrix multiplication lib\n",
    "cppapi.cuda_prop()"
   ]
  },
  {
   "cell_type": "code",
   "execution_count": 10,
   "metadata": {},
   "outputs": [
    {
     "name": "stdout",
     "output_type": "stream",
     "text": [
      "tile mem: 2048 \n",
      "par blocks: 24.0 \n",
      "Throttled: True\n"
     ]
    }
   ],
   "source": [
    "# There is approximately 49 kB of mem\n",
    "# For tiled matrix multiplication we need:\n",
    "# 1. 2 Tiles of 16x16=256 of floating point numbers = 2 * 256 * 4 = 2048\n",
    "# 2. There is 49kB of shared mem meaning we can do: 49152 / 2048 \n",
    "tile_mem = 2 * 256 * 4\n",
    "num_par_blocks = 49152 / 2048\n",
    "num_blocks_per_SM = 16\n",
    "print(\"tile mem:\", tile_mem, \"\\npar blocks:\", num_par_blocks, \n",
    "      \"\\nThrottled:\", num_par_blocks > num_blocks_per_SM)"
   ]
  }
 ],
 "metadata": {
  "kernelspec": {
   "display_name": "cppdl",
   "language": "python",
   "name": "python3"
  },
  "language_info": {
   "codemirror_mode": {
    "name": "ipython",
    "version": 3
   },
   "file_extension": ".py",
   "mimetype": "text/x-python",
   "name": "python",
   "nbconvert_exporter": "python",
   "pygments_lexer": "ipython3",
   "version": "3.10.14"
  }
 },
 "nbformat": 4,
 "nbformat_minor": 2
}
